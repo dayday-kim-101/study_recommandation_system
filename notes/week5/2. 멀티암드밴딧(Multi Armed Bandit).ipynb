{
 "cells": [
  {
   "cell_type": "markdown",
   "metadata": {},
   "source": [
    "<i><b>Public AI</b></i>\n",
    "<br>\n",
    "\n",
    "# 멀티암드밴딧(Multi Armed Bandit)\n",
    "\n",
    "지금까지 추천시스템의 다양한 모델을 다루어 보았고, 앞으로도 새로운 모델을 다루어 볼 것입니다. 비개인화 추천방식으로 가장 인기있는 Item을 선전하는 Top-K 추천모델과 유저와 아이템의 상호작용데이터를 활용한 협업필터링(CF)모델, 그리고 Implicit 데이터를 활용하기 위한 BPR 모델까지 다루었으며, 이제 앞으로 Metadata를 포함한 데이터를 위한 Factorization Machine이라는 모델도 배워볼 것입니다. 그렇다면, 상황에 따라 어떠한 모델을 활용하는 것이 좋을까요. 우리는 다양한 모델에 의한 추천이 제공되었을 때, 고객이 가장 잘 선택할 것 같은 추천 아이템을 한정해서 선택해야 합니다. 그리고 그 상황은 때때로 달라지곤 하지요. 이번 시간에는 각 시도에 따라 어떠한 모델의 추천이 가장 나을지 선택하는 Multi-Armed Bandit 에 대해 다루어 보겠습니다.\n",
    "\n",
    "### _Objective_\n",
    "1. **MAB 문제 이해하기** : 어떤 추천 모델이 고객에게 효과적인 추천 아이템을 선정하는지 확인할 수 있는 MAB 문제를 이해합니다"
   ]
  },
  {
   "cell_type": "code",
   "execution_count": null,
   "metadata": {},
   "outputs": [],
   "source": [
    "%matplotlib inline\n",
    "\n",
    "import numpy as np\n",
    "import pandas as pd\n",
    "from tqdm import tqdm\n",
    "from scipy.stats import beta\n",
    "from tensorflow.keras.utils import get_file\n",
    "\n",
    "import matplotlib.pyplot as plt"
   ]
  },
  {
   "cell_type": "markdown",
   "metadata": {},
   "source": [
    "# 문제 상황 : 어떤 추천 모형으로 고객에게 제공했을 때 클릭이 가장 많이 일어날까?\n",
    "---"
   ]
  },
  {
   "cell_type": "markdown",
   "metadata": {},
   "source": [
    "## 예제) 모형에 따라, 고객의 클릭 유무를 알려주는 클래스\n",
    "\n",
    "<img src=\"https://imgur.com/3CSk6B5.png\" width=\"500\" > "
   ]
  },
  {
   "cell_type": "markdown",
   "metadata": {},
   "source": [
    "우리에게는 3가지 추천 모형이 있습니다. 세 추천 모형 모두 고객이 관심가질만한 제품을 노출시켜, 클릭을 유도하기 위해 설계되어 있습니다. 즉 높은 클릭율(CTR)일수록 좋은 모형입니다. 하지만 우리는 셋 중 어느 모형이 높은 CTR을 보일지 모릅니다. 이 때 우리는 어떻게 시도하는 것이 좋을까요?"
   ]
  },
  {
   "cell_type": "code",
   "execution_count": null,
   "metadata": {},
   "outputs": [],
   "source": [
    "class Simulator:\n",
    "    fpath = get_file(\n",
    "        'MAB_simulation.csv',\n",
    "        'https://pai-datasets.s3.ap-northeast-2.amazonaws.com/alai-deeplearning/MAB_simulation.csv')\n",
    "    \n",
    "    # ads_df : 각 시도에서 모델별 추천이 먹혔을 경우 1, 먹히지 않았을 경우 0인 dataframe\n",
    "    ads_df = pd.read_csv(fpath)\n",
    "    def __init__(self):\n",
    "        self.idx = 0\n",
    "        self.model_list = ['TOP_K','CF','BPR']\n",
    "        \n",
    "    def recommend_by(self, model_name):\n",
    "        assert model_name in self.model_list\n",
    "        self.idx += 1\n",
    "        return bool(self.ads_df.loc[self.idx,model_name])"
   ]
  },
  {
   "cell_type": "markdown",
   "metadata": {},
   "source": [
    "### 평가할 3가지 모형\n",
    "\n",
    "* `Top-K` : 상위 K개의 아이템 노출\n",
    "* `CF` : Item-Based Collaborative Filtering을 통한 아이템 노출\n",
    "* `BPR` : Bayesian Personalized Ranking을 통한 아이템 노출"
   ]
  },
  {
   "cell_type": "code",
   "execution_count": null,
   "metadata": {},
   "outputs": [],
   "source": [
    "simulator = Simulator()\n",
    "simulator.model_list"
   ]
  },
  {
   "cell_type": "markdown",
   "metadata": {},
   "source": [
    "### Case 1) Top-K을 이용해 추천했을 때의 결과\n",
    "\n"
   ]
  },
  {
   "cell_type": "code",
   "execution_count": null,
   "metadata": {},
   "outputs": [],
   "source": [
    "for i in range(10):\n",
    "    result = simulator.recommend_by('TOP_K')\n",
    "    print(\"{}th 시도 : {}\".format(i, result))"
   ]
  },
  {
   "cell_type": "markdown",
   "metadata": {},
   "source": [
    "### Case 2) CF을 이용해 추천했을 때의 결과"
   ]
  },
  {
   "cell_type": "code",
   "execution_count": null,
   "metadata": {},
   "outputs": [],
   "source": [
    "for i in range(10):\n",
    "    result = simulator.recommend_by('CF')\n",
    "    print(\"{}th 시도 : {}\".format(i, result))"
   ]
  },
  {
   "cell_type": "code",
   "execution_count": null,
   "metadata": {},
   "outputs": [],
   "source": [
    "cf_click = 0\n",
    "for i in range(1000):\n",
    "    cf_click += simulator.recommend_by('CF')\n",
    "cf_click/1000"
   ]
  },
  {
   "cell_type": "markdown",
   "metadata": {},
   "source": [
    "### Case 3) BPR을 이용해 추천했을 때의 결과"
   ]
  },
  {
   "cell_type": "code",
   "execution_count": null,
   "metadata": {},
   "outputs": [],
   "source": [
    "for i in range(10):\n",
    "    result = simulator.recommend_by('CF')\n",
    "    print(\"{}th 시도 : {}\".format(i, result))"
   ]
  },
  {
   "cell_type": "markdown",
   "metadata": {},
   "source": [
    "### CTR을 알아내는 방법, 빈도 기반 확률 계산\n",
    "\n",
    "각각 모델 별로 1000번씩 돌린다고 해봅시다."
   ]
  },
  {
   "cell_type": "code",
   "execution_count": null,
   "metadata": {},
   "outputs": [],
   "source": [
    "topk_click = 0\n",
    "for i in range(1000):\n",
    "    topk_click += simulator.recommend_by('TOP_K')\n",
    "topk_click/1000"
   ]
  },
  {
   "cell_type": "code",
   "execution_count": null,
   "metadata": {},
   "outputs": [],
   "source": [
    "cf_click = 0\n",
    "for i in range(1000):\n",
    "    cf_click += simulator.recommend_by('CF')\n",
    "cf_click/1000"
   ]
  },
  {
   "cell_type": "code",
   "execution_count": null,
   "metadata": {},
   "outputs": [],
   "source": [
    "bpr_click = 0\n",
    "for i in range(1000):\n",
    "    bpr_click += simulator.recommend_by('BPR')\n",
    "bpr_click/1000"
   ]
  },
  {
   "cell_type": "markdown",
   "metadata": {},
   "source": [
    "우리는 총 3000번의 시도를 통해, BPR 알고리즘의 CTR이 가장 높다는 것을 추론해냈습니다. 우리가 처음부터 BPR 알고리즘이 CTR이 가장 높았다는 것을 알았더라면, 800여번을 클릭 횟수를 이루어냈을텐데, 실험하는 과정에서 top_k와 CF 알고리즘으로 인해, 500여번의 훨씬 적은 클릭 횟수를 기록했습니다. 즉 우리는 300여번의 클릭을 놓친 셈이 됩니다. 이러한 것들은 기업의 입장에서는 모두 비용에 해당하게 됩니다. 어떻게 우리는 적은 시도 횟수로도 클릭을 이끌어낼 수 있을까요?"
   ]
  },
  {
   "cell_type": "markdown",
   "metadata": {},
   "source": [
    "# [ Multi Armed Bandit을 푸는 알고리즘 , Thompson Sampling ]\n",
    "---"
   ]
  },
  {
   "cell_type": "markdown",
   "metadata": {},
   "source": [
    "## Thompson Sampling 알고리즘"
   ]
  },
  {
   "cell_type": "markdown",
   "metadata": {},
   "source": [
    "### Beta 분포란?\n",
    "\n",
    "베타 분포는 $\\alpha$와 $\\beta$라는 두 모수를 가지며 표본 공간은 0과 1 사이의 실수인 분포입니다.\n",
    "\n",
    "$$\n",
    "Beta(x;\\alpha,\\beta) = \\frac{1}{B(\\alpha,\\beta)}x^{(\\alpha-1)}(1-x)^{(\\beta-1)}\n",
    "$$\n",
    "\n",
    "Beta 분포는 모수 $\\alpha$,$\\beta$를 통해 기댓값, 분산, 최빈값을 쉽게 추론할 수 있습니다.\n",
    "\n",
    "* 기댓값 : $E[x] = \\frac{\\alpha}{\\alpha+\\beta}$\n",
    "* 분산 : $Var[x] = \\frac{\\alpha\\beta}{(\\alpha+\\beta)^2(\\alpha+\\beta+1)}$\n",
    "* 최빈값 : $Mode[x] = \\frac{\\alpha-1}{\\alpha+\\beta-2}$"
   ]
  },
  {
   "cell_type": "markdown",
   "metadata": {},
   "source": [
    "### Beta 분포를 통해 우리가 알 수 있는 것 -> 확률에 대한 확신 수준\n",
    "\n",
    "10번 중 2번 고객이 클릭했을 때와 100번 중 20번 고객이 클릭했을 때 모두 CTR은 20%입니다. 그런데 10번을 했을 때 측정된 CTR이 믿을만할까요, 100번을 시도했을 때 측정된 CTR이 믿을만할까요? 베타 분포는 확신의 정도를 분포를 통해 보여줍니다."
   ]
  },
  {
   "cell_type": "markdown",
   "metadata": {},
   "source": [
    "#### case 1) 고객에게 10번 노출시켰을 때, 2번 클릭한 경우"
   ]
  },
  {
   "cell_type": "code",
   "execution_count": null,
   "metadata": {},
   "outputs": [],
   "source": [
    "from scipy.stats import beta \n",
    "\n",
    "click = 2\n",
    "total = 10\n",
    "\n",
    "a = #\n",
    "b = #\n",
    "\n",
    "xs = np.linspace(0+1e-5,1-1e-5,100)\n",
    "ys = #\n",
    "\n",
    "ctr = #\n",
    "var = #\n",
    "\n",
    "plt.title(\"ctr : {:.3f}, var : {:.3f}\".format(ctr,var))\n",
    "plt.plot(xs,ys)\n",
    "plt.show()"
   ]
  },
  {
   "cell_type": "markdown",
   "metadata": {},
   "source": [
    "#### Case 2) 고객에게 100번 노출시켰을 때, 20번 클릭한 경우"
   ]
  },
  {
   "cell_type": "code",
   "execution_count": null,
   "metadata": {},
   "outputs": [],
   "source": [
    "from scipy.stats import beta \n",
    "\n",
    "click = 20\n",
    "total = 100\n",
    "\n",
    "a = #\n",
    "b = #\n",
    "\n",
    "xs = np.linspace(0+1e-5,1-1e-5,100)\n",
    "ys = #\n",
    "\n",
    "ctr = #\n",
    "var = #\n",
    "\n",
    "plt.title(\"ctr : {:.1f}, var : {:.5f}\".format(ctr,var))\n",
    "plt.plot(xs,ys)\n",
    "plt.show()"
   ]
  },
  {
   "cell_type": "markdown",
   "metadata": {},
   "source": [
    "#### Case 3) 고객에게 1000번 노출시켰을 때, 200번 클릭한 경우"
   ]
  },
  {
   "cell_type": "code",
   "execution_count": null,
   "metadata": {},
   "outputs": [],
   "source": [
    "from scipy.stats import beta \n",
    "\n",
    "click = 200\n",
    "total = 1000\n",
    "\n",
    "a = #\n",
    "b = #\n",
    "\n",
    "xs = np.linspace(0+1e-5,1-1e-5,100)\n",
    "ys = #\n",
    "\n",
    "ctr = #\n",
    "var = #\n",
    "\n",
    "plt.title(\"ctr : {:.1f}, var : {:.5f}\".format(ctr,var))\n",
    "plt.plot(xs,ys)\n",
    "plt.show()"
   ]
  },
  {
   "cell_type": "markdown",
   "metadata": {},
   "source": [
    "### Thompson Sampling을 통한 CTR 추정하기"
   ]
  },
  {
   "cell_type": "code",
   "execution_count": null,
   "metadata": {},
   "outputs": [],
   "source": [
    "arms = pd.DataFrame(np.ones((3,2)), \n",
    "                    columns=['alpha','beta'],\n",
    "                    index=['TOP_K','CF','BPR'])\n",
    "\n",
    "clicks = 0\n",
    "for idx in range(3000):\n",
    "    # Visualization\n",
    "    if idx % 300 == 0:\n",
    "        for name, row in arms.iterrows():\n",
    "            xs = np.linspace(0+1e-5,1-1e-5,100)\n",
    "            ys = #\n",
    "\n",
    "            plt.plot(xs,ys,label=name)\n",
    "        plt.title(f'{idx}th attempt')\n",
    "        plt.legend()\n",
    "        plt.show()\n",
    "        \n",
    "    # Sampling Model\n",
    "    bandit_result = #\n",
    "    \n",
    "    # Select \n",
    "    chosen_model = #  \n",
    "    \n",
    "    # Update Distribution\n",
    "    click = #\n",
    "    clicks += click\n",
    "    if click:\n",
    "        # Success\n",
    "        arms.loc[chosen_model,'alpha'] += 1\n",
    "    else:\n",
    "        arms.loc[chosen_model,'beta'] += 1        "
   ]
  },
  {
   "cell_type": "markdown",
   "metadata": {},
   "source": [
    "### Thompson Sampling을 통한 CTR 예측값"
   ]
  },
  {
   "cell_type": "code",
   "execution_count": null,
   "metadata": {},
   "outputs": [],
   "source": [
    "#"
   ]
  },
  {
   "cell_type": "markdown",
   "metadata": {},
   "source": [
    "<hr>\n",
    "<div style = \"background-image: url('https://pai-picture.s3.ap-northeast-2.amazonaws.com/PAI-Identity/PublicAI+Logo.png');background-repeat: no-repeat; background-position: right; background-size: 60px 40px; padding : 5px 70px 5px 5px;\">\n",
    "    Copyright(c) 2020 by Public AI. All rights reserved.<br>\n",
    "    Writen by PAI, SeonYoul Choi ( best10@publicai.co.kr )  last updated on 2020/06/22\n",
    "</div>\n",
    "<hr>"
   ]
  }
 ],
 "metadata": {
  "kernelspec": {
   "display_name": "Python 3",
   "language": "python",
   "name": "python3"
  },
  "language_info": {
   "codemirror_mode": {
    "name": "ipython",
    "version": 3
   },
   "file_extension": ".py",
   "mimetype": "text/x-python",
   "name": "python",
   "nbconvert_exporter": "python",
   "pygments_lexer": "ipython3",
   "version": "3.7.6"
  },
  "toc": {
   "base_numbering": 1,
   "nav_menu": {},
   "number_sections": false,
   "sideBar": true,
   "skip_h1_title": false,
   "title_cell": "Table of Contents",
   "title_sidebar": "Contents",
   "toc_cell": false,
   "toc_position": {},
   "toc_section_display": true,
   "toc_window_display": false
  },
  "varInspector": {
   "cols": {
    "lenName": 16,
    "lenType": 16,
    "lenVar": 40
   },
   "kernels_config": {
    "python": {
     "delete_cmd_postfix": "",
     "delete_cmd_prefix": "del ",
     "library": "var_list.py",
     "varRefreshCmd": "print(var_dic_list())"
    },
    "r": {
     "delete_cmd_postfix": ") ",
     "delete_cmd_prefix": "rm(",
     "library": "var_list.r",
     "varRefreshCmd": "cat(var_dic_list()) "
    }
   },
   "types_to_exclude": [
    "module",
    "function",
    "builtin_function_or_method",
    "instance",
    "_Feature"
   ],
   "window_display": false
  }
 },
 "nbformat": 4,
 "nbformat_minor": 2
}
