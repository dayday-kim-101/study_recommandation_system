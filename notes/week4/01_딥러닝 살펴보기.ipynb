{
 "cells": [
  {
   "cell_type": "markdown",
   "metadata": {},
   "source": [
    "<i><b>Public AI</b></i>\n",
    "<br>\n",
    "\n",
    "# 딥러닝 살펴보기\n",
    "\n",
    "이번 주차에는 딥러닝 알고리즘 중 하나인 심층신경망(Deep Neural Network)의 기본에 대해 배웁니다. 본격적인 내용에 들어가기에 앞서, 딥러닝이란 무엇인지, 딥러닝 알고리즘 활용에 사용되는 프레임워크에는 어떤 것이 있는지 살펴보겠습니다.\n",
    "\n",
    "### _Objective_\n",
    "1. **머신러닝과 딥러닝** : 머신러닝 및 딥러닝 프로그래밍의 개념과 발전 역사를 개괄적으로 알아봅니다.<br>\n",
    "2. **딥러닝 프레임워크 맛보기**: 딥러닝 프로그래밍에 활용되는 대표적인 프레임워크(Tensorflow와 Keras)를 이용해 머신러닝 알고리즘을 구현하는 방법을 간략하게 알아봅니다. \n"
   ]
  },
  {
   "cell_type": "code",
   "execution_count": null,
   "metadata": {},
   "outputs": [],
   "source": [
    "%matplotlib inline\n",
    "\n",
    "import os\n",
    "\n",
    "import pandas as pd\n",
    "import numpy as np\n",
    "\n",
    "import matplotlib.pyplot as plt"
   ]
  },
  {
   "cell_type": "markdown",
   "metadata": {},
   "source": [
    "# \\[ 1. 머신러닝과 딥러닝 \\]\n"
   ]
  },
  {
   "cell_type": "markdown",
   "metadata": {},
   "source": [
    "## 1. 머신러닝 프로그래밍이란?\n",
    "\n",
    "머신러닝 프로그래밍이란 무엇일까요? 머신러닝 프로그래밍이 대두되기 전, 프로그래밍이란 '명시적 프로그래밍'을 뜻했었습니다. 데이터 저장 및 처리기술 발전과 통계학 연구의 축적 등의 여로 요인으로 인해 '머신러닝 프로그래밍'이라는 개념이 등장하게 되었습니다. (1) 명시적 프로그래밍과 (2) 머신러닝 프로그래밍의 개념을 비교하여 알아보고, (3) 머신러닝의 세부 분야가 어떻게 나뉘어 발전해왔는지, 거기서 (4) 딥러닝은 머신러닝과 어떤 관계가 있는지 알아봅시다. "
   ]
  },
  {
   "cell_type": "markdown",
   "metadata": {},
   "source": [
    "### (1) 명시적 프로그래밍\n",
    "명시적 프로그래밍이란 개발자가 입력조건과 프로그램 상태 조건에 따라 프로그램이 동작하는 방식을 모두 구현하는 프로그래밍 방식입니다."
   ]
  },
  {
   "cell_type": "markdown",
   "metadata": {
    "slideshow": {
     "slide_type": "subslide"
    }
   },
   "source": [
    "\n",
    "\n",
    "![1_10](./img/1_10.png)"
   ]
  },
  {
   "cell_type": "markdown",
   "metadata": {
    "slideshow": {
     "slide_type": "subslide"
    }
   },
   "source": [
    "![1_11](./img/1_11.png)"
   ]
  },
  {
   "cell_type": "markdown",
   "metadata": {},
   "source": [
    "### (2) 머신러닝 프로그래밍\n",
    "머신러닝 프로그래밍이란 Arthur Samuel 교수가 제안한 것으로, 개발자가 프로그램의 동작방식을 일일이 구현한 것이 아니라 프로그램이 데이터를 보고 스스로가 학습하여 동작방식을 결정하는 프로그래밍 방식입니다. 프로그램, 즉 기계(machine)가 데이터로부터 스스로 학습(learning)한다는 의미에서 '머신 러닝'이라는 이름이 붙여진 것이죠."
   ]
  },
  {
   "cell_type": "markdown",
   "metadata": {
    "slideshow": {
     "slide_type": "subslide"
    }
   },
   "source": [
    "![1_12](./img/1_12.png)"
   ]
  },
  {
   "cell_type": "markdown",
   "metadata": {
    "slideshow": {
     "slide_type": "subslide"
    }
   },
   "source": [
    "\n",
    "![1_13](./img/1_13.png)"
   ]
  },
  {
   "cell_type": "markdown",
   "metadata": {},
   "source": [
    "## 2. 딥러닝 프로그래밍"
   ]
  },
  {
   "cell_type": "markdown",
   "metadata": {},
   "source": [
    "그렇다면 흔히 얘기하는 '딥러닝'은 머신러닝과 어떤 관계가 있을까요? 아래 그림은 여러 인공지능 분야의 관계와 각 분야에 대한 간단한 설명이 덧붙여진 이미지입니다. 딥러닝이 머신러닝의 일종이고, 머신러닝이 인공지능 분야에 쓰이긴 하지만 모든 인공지능 분야에 쓰이는 것은 아니라는 것을 알 수 있습니다. 이번에는 (1) 딥러닝과 고전적 머신러닝 알고리즘 간의 차이를 알아보고, (2) 딥러닝의 특징을 알아보겠습니다. 그 후, (3) 딥러닝의 발전 역사와 (4) 최근 딥러닝이 성장하게 된 이유를 알아보겠습니다."
   ]
  },
  {
   "cell_type": "markdown",
   "metadata": {
    "slideshow": {
     "slide_type": "subslide"
    }
   },
   "source": [
    "#### 인공지능 기술의 포함 관계와 특징\n",
    "인공지능에서 `머신러닝(Machine Learning)`과 `딥러닝(Deep Learning)`의 관계\n",
    "\n",
    "\n",
    "![1_5](./img/1_5.png)\n"
   ]
  },
  {
   "cell_type": "markdown",
   "metadata": {},
   "source": [
    "### (1) 딥러닝(심층학습)과 고전적 머신러닝 간의 차이\n",
    "\n",
    "앞서 머신러닝은 크게 지도학습, 비지도학습, 강화학습 등으로 분류할 수 있다고 했습니다. 이러한 분류는 고전적인 관점에서 머신러닝 알고리즘을 분류한 것입니다. 고전적인 머신러닝 알고리즘은 사람이 직접 지정한 규칙에서 입력값의 특징을 추출한 후, 추출한 특징에서 머신러닝을 이용해 분류(classification), 군집화(clustering), 회귀(regression)등을 수행하였습니다. 즉, 고전적 머신러닝에서는 특징 추출(feature extraction)에 사람이 개입하게 되는데, 이를 어떻게 하느냐에 따라 결과가 크게 달라지기도 합니다. 반면, 딥러닝은 데이터를 입력하면 컴퓨터가 직접 특징을 추출하고 결과를 도출합니다. (규칙기반시스템은 앞서 살펴본 '명시적 프로그래밍'의 다른 말이기도 합니다.)"
   ]
  },
  {
   "cell_type": "markdown",
   "metadata": {
    "slideshow": {
     "slide_type": "subslide"
    }
   },
   "source": [
    "#### 딥러닝과 다른 인공지능 기술의 차이\n",
    "\n",
    "![1_27](./img/1_27.png)\n",
    "\n",
    "(출처: [\"Deep Learning\" - ian goodfellow ](https://www.deeplearningbook.org/))"
   ]
  },
  {
   "cell_type": "markdown",
   "metadata": {},
   "source": [
    "### (2) 표현을 스스로 학습하는 딥러닝\n",
    "\n",
    "딥러닝이 가장 많이 쓰이는 대표적인 분야가 바로 이미지 인식 분야입니다. 사람이 이미지를 인식한다는 것은 어떤 의미일까요? 우리는 이미지로부터 이미지를 구성하는 가장 낮은 단계는 선, 점 등을 구별합니다. 그 후 그 정보들을 조합해 턱선, 눈 등을 구별하고, 다시 그 정보들을 조합해 눈 코 입 등을 구별합니다. 딥러닝은 이러한 동물의 시각 인지방법과 매우 유사하게 작동합니다. 마치 사람이 시각을 배우는 것과 유사한 방식으로, 딥러닝도 데이터를 보고 특징 정보를 추출해 객체를 인지하고 구별하는 학습을 하는 것이죠. "
   ]
  },
  {
   "cell_type": "markdown",
   "metadata": {
    "slideshow": {
     "slide_type": "subslide"
    }
   },
   "source": [
    "#### 표현을 스스로 학습하는 딥러닝\n",
    "\n",
    "![1_28](./img/1_28.png)"
   ]
  },
  {
   "cell_type": "markdown",
   "metadata": {},
   "source": [
    "### (3) 딥러닝의 역사\n",
    "\n",
    "딥러닝은 현시대에 가장 빠르게 발전하고 있는 학문 중 하나입니다. 1940년대에 인간의 뉴런을 수학적으로 표기하는 '퍼셉트론'의 개념이 고안되었고, 이후 연구가 지속적으로 축적되어 왔습니다. "
   ]
  },
  {
   "cell_type": "markdown",
   "metadata": {
    "slideshow": {
     "slide_type": "subslide"
    }
   },
   "source": [
    "#### 딥러닝의 역사적 사건\n",
    "\n",
    "최초의 뉴런 구상부터 현재까지의 딥러닝 역사적 사건\n",
    "\n",
    "![1_29](./img/1_29.png)"
   ]
  },
  {
   "cell_type": "markdown",
   "metadata": {},
   "source": [
    "### (4) 딥러닝의 성장 이유\n",
    "\n",
    "이처럼 급격하게 딥러닝이 주목받고 성장하게 된 이유는 무엇일까요? 가장 큰 성장 이유는 데이터셋의 크기 증가입니다. 딥러닝은 많은 데이터셋을 필요로 하는 알고리즘입니다. 1900년대부터 머신러닝 분야에서 사용된 주요 공공데이터의 등장 시점과 해당 데이터셋의 크기를 살펴보면 아래와 같습니다. 최근에 등장한 공공 데이터셋일수록 데이터셋의 크기가 커지고 있음을 알 수 있습니다. 점점 처리해야 하는 데이터셋의 크기가 커지고 있는데, 큰 데이터셋을 처리하기에 효율적인 알고리즘 중 하나가 바로 딥러닝 알고리즘입니다. "
   ]
  },
  {
   "cell_type": "markdown",
   "metadata": {
    "slideshow": {
     "slide_type": "slide"
    }
   },
   "source": [
    "### 딥러닝의 성장을 받치는 기술\n",
    "\n",
    "---\n",
    "\n",
    "![1_6](./img/1_6.png)"
   ]
  },
  {
   "cell_type": "markdown",
   "metadata": {
    "slideshow": {
     "slide_type": "subslide"
    }
   },
   "source": [
    "**데이터셋 크기의 증가**\n",
    "\n",
    "스마트폰 보급 이후의 데이터량의 급격한 증가<br>\n",
    "→ 인공지능 학습에 필요한 데이터셋의 확보 <br>\n",
    "( 다양한 데이터 / 거대한 데이터 / 빠르게 생산되는 데이터 / 가치있는 데이터 )\n",
    "\n",
    "\n",
    "![1_30](./img/1_30.png)"
   ]
  },
  {
   "cell_type": "markdown",
   "metadata": {
    "slideshow": {
     "slide_type": "subslide"
    }
   },
   "source": [
    "#### 연산장치의 발달 : 하드웨어 성능의 발달\n",
    "무어의 법칙에 따라 배수로 증가하는 컴퓨팅 파워<br>\n",
    "→ 인공지능의 연산을 가능하게 하는 연산장치의 발명\n",
    "\n",
    "![1_31](./img/1_31.png)"
   ]
  },
  {
   "cell_type": "markdown",
   "metadata": {},
   "source": [
    "두 번째 이유는 연산장치(GPU)가 빠르게 발전함에 따라 컴퓨터가 연산을 하는 속도는 줄어들고 있다는 점입니다. 컴퓨터의 연산 속도가 빨라질수록, 복잡한(뉴런의 수가 많은) 딥러닝 알고리즘을 연산하기가 쉬워집니다. 아래 이미지를 보면, 최근에 고안된 딥러닝 알고리즘 일수록 사용되는 뉴런의 수가 많아짐을 알 수 있습니다. 가령 1번 알고리즘은 Perceptron인데 1958년도에 고안되었고 사용되는 뉴런의 수가 1개였고, 20번 알고리즘은 2014년에 고안된 GoogLeNet 알고리즘은 대략 $10^7$ 개의 뉴런이 사용되었습니다. 알고리즘에 사용되는 뉴런의 수가 지수적으로 증가하고 있는 것을 알 수 있습니다. GPU의 발전에 따라 가능해진 일이죠. 현대 딥러닝의 트렌드 중 하나는 딥러닝 알고리즘에서 사용하는 뉴런수를 인간의 뉴런수 만큼이나 끌어올리는 것입니다. "
   ]
  },
  {
   "cell_type": "markdown",
   "metadata": {
    "slideshow": {
     "slide_type": "subslide"
    }
   },
   "source": [
    "#### 연산장치의 발달 : 클라우드 시장의 성장\n",
    "컴퓨팅 파워를 하드웨어로 구매하지 않고 클라우드로 자유롭게 사용하는 시장의 발전<br>\n",
    "→ 인공지능의 연산에 필요한 하드웨어 장치를 구매하지 않고 고효율의 클라우드 활용\n",
    "\n",
    "![1_31](./img/1_32.png)"
   ]
  },
  {
   "cell_type": "markdown",
   "metadata": {
    "slideshow": {
     "slide_type": "subslide"
    }
   },
   "source": [
    "#### 딥러닝 알고리즘의 고도화\n",
    "\n",
    "전세계의 수많은 인공지능 학자들에 의해 변화하는 세계 환경과 데이터, 문제에 따라 알고리즘을 고도화<br>\n",
    "→ 해결하지 못했던 수많은 문제들에 대해 새로운 알고리즘의 해결책을 제안, 발전\n",
    "\n",
    "![1_34](./img/1_34.png)"
   ]
  },
  {
   "cell_type": "markdown",
   "metadata": {},
   "source": [
    "# \\[ 2. 딥러닝 프레임워크 맛보기 \\]\n",
    "\n",
    "\n",
    "이러한 딥러닝을 구현하여 프로덕트를 개발하려면 무엇을 알아야 할까요? Tensorflow와 Keras는 머신러닝, 딥러닝 모델을 만들기 위한 딥러닝 프레임워크입니다. 파이썬과 넘파이로도 딥러닝 모델을 구성하고 학습시킬 수 있지만, 이러한 딥러닝 프레임워크를 이용하면 훨씬 더 간결하게 문제를 해결할 수 있습니다. (1) 딥러닝 프레임워크에는 어떤 것들이 있는지 알아보고, (2) 대표적인 딥러닝 프레임워크인 케라스를 이용해 고전적 머신러닝 기법 중 선형 회귀, 로지스틱 회귀를 구현해보겠습니다."
   ]
  },
  {
   "cell_type": "markdown",
   "metadata": {},
   "source": [
    "## 1. 딥러닝 프레임워크란? "
   ]
  },
  {
   "cell_type": "markdown",
   "metadata": {
    "slideshow": {
     "slide_type": "slide"
    }
   },
   "source": [
    "`딥러닝(Deep Learning)`\n",
    "\n",
    "1. (주로) 여러 층을 가진 인공신경망을 사용하여 머신러닝 학습을 수행\n",
    "2. 데이터로부터 중요한 패턴 및 규칙을 학습한 인공지능으로 추론을 수행\n",
    "\n",
    "`프레임워크(Framework)`\n",
    "\n",
    "1. 어떠한 목적을 달성하기 위해 필요한 **문제 해결도구들의 뼈대**\n",
    "2. 복잡하게 얽혀있는 문제를 해결하기 위한 **표준과 클래스로 구성된 시스템**"
   ]
  },
  {
   "cell_type": "markdown",
   "metadata": {
    "slideshow": {
     "slide_type": "subslide"
    }
   },
   "source": [
    "#### 패키지와 프레임워크의 차이점\n",
    "![2_6](./img/2_6.png)"
   ]
  },
  {
   "cell_type": "markdown",
   "metadata": {},
   "source": [
    "### (1) 딥러닝 프레임워크의 필요성"
   ]
  },
  {
   "cell_type": "markdown",
   "metadata": {},
   "source": [
    "딥러닝 모델을 만들기 위해서는 복잡한 수식을 코드로 구현해야 합니다. 수식을 직접 구현하지 않고, 이미 잘 구현된 코드들을 이용해 딥러닝 모델을 만든다면 한결 간편할 것입니다. 이러한 딥러닝 모델을 개발하기 위한 도구들의 집합을 **딥러닝 프레임워크라 합니다.**"
   ]
  },
  {
   "cell_type": "markdown",
   "metadata": {
    "slideshow": {
     "slide_type": "subslide"
    }
   },
   "source": [
    "#### 1. 인공신경망을 위한 클래스를 구현해 놓았다."
   ]
  },
  {
   "cell_type": "markdown",
   "metadata": {
    "slideshow": {
     "slide_type": "fragment"
    }
   },
   "source": [
    "![2_7](./img/2_7.png)"
   ]
  },
  {
   "cell_type": "markdown",
   "metadata": {
    "slideshow": {
     "slide_type": "fragment"
    }
   },
   "source": [
    "![2_8](./img/2_8.png)"
   ]
  },
  {
   "cell_type": "markdown",
   "metadata": {
    "slideshow": {
     "slide_type": "subslide"
    }
   },
   "source": [
    "#### 2. 인공지능의 학습에 필요한 미분연산을 지원한다.\n",
    "\n"
   ]
  },
  {
   "cell_type": "markdown",
   "metadata": {
    "slideshow": {
     "slide_type": "fragment"
    }
   },
   "source": [
    "![2_9](./img/2_9.png)"
   ]
  },
  {
   "cell_type": "markdown",
   "metadata": {
    "slideshow": {
     "slide_type": "fragment"
    }
   },
   "source": [
    "![2_10](./img/2_10.png)"
   ]
  },
  {
   "cell_type": "markdown",
   "metadata": {
    "slideshow": {
     "slide_type": "slide"
    }
   },
   "source": [
    "#### 3. 다양한 디바이스 위에서 연산할 수 있다.\n",
    "\n",
    "딥러닝의 대용량의 연산을 위한 가속화된 하드웨어를 흔히 사용<br>\n",
    "CPU뿐 아니라 GPU, TPU 등 다양한 디바이스 위에서 동작가능<br>"
   ]
  },
  {
   "cell_type": "markdown",
   "metadata": {
    "slideshow": {
     "slide_type": "fragment"
    }
   },
   "source": [
    "![2_12](./img/2_12.png)"
   ]
  },
  {
   "cell_type": "markdown",
   "metadata": {
    "slideshow": {
     "slide_type": "subslide"
    }
   },
   "source": [
    "**CPU / GPU / TPU의 성능비교**\n",
    "\n",
    "![2_11](./img/2_11.png)"
   ]
  },
  {
   "cell_type": "markdown",
   "metadata": {},
   "source": [
    "### (2) 다양한 딥러닝 프레임워크\n",
    "![2_27](./img/2_27.png)"
   ]
  },
  {
   "cell_type": "markdown",
   "metadata": {},
   "source": [
    "### (3) 딥러닝 개발 프로세스의 생태계\n",
    "\n",
    "![2_28](./img/2_28.png)\n",
    "\n",
    "2019년 9월, 텐서플로우2.0이 출시하며 `텐서플로우 코어`는 (거의 모두) `케라스(Keras)인터페이스로 동작`<br>\n",
    "이로서, `케라스`의 간편하고 배우기 쉬운` 인터페이스로 텐서플로우를 사용`할 수 있음.\n",
    "\n",
    "![2_29](./img/2_29.png)"
   ]
  },
  {
   "cell_type": "markdown",
   "metadata": {},
   "source": [
    "Python, Numpy, Tensorflow, Keras는 위 그림과 같은 관계를 가지고 있습니다. Numpy는 Python에서 수치 연산을 보다 편리하게 만들어주기 위해 만들어진 라이브러리입니다. Tensorflow는 여러 수치 연산 중 머신러닝에 특화된 수치 연산을 보다 최적화하여 구현된 프레임워크입니다. 그리고 텐서플로우에서의 딥러닝 모델 개발을 좀 더 쉽게 만들어준 프레임워크가 바로 Keras입니다."
   ]
  },
  {
   "cell_type": "markdown",
   "metadata": {},
   "source": [
    "## 2. 케라스로 선형회귀 모델 구성하기\n",
    "\n",
    "딥러닝 프레임워크 중 하나인 케라스에는 딥러닝, 머신러닝 문제를 풀기 위한 많은 요소들이 잘 구현되어 있습니다. 이들의 조합으로도 우리가 원하는 형태의 머신러닝과 딥러닝 모형을 쉽게 구축할 수 있습니다. 이번에는 케라스로 어떻게 선형 회귀 모델을 구현하는지 알아본 봅시다. "
   ]
  },
  {
   "cell_type": "markdown",
   "metadata": {},
   "source": [
    "### (1) 선형회귀 모델 구성하기\n",
    "\n",
    "선형회귀식은 간단히 표현하면 아래와 같습니다. \n",
    "\n",
    "$$\n",
    "\\hat y(x) = w_1 x + w_0\n",
    "$$\n",
    "\n",
    "위의 수식을 케라스로 구현해야 합니다. 케라스는 머신러닝 모델을 **층의 연결**로 표현합니다. <br>\n",
    "선형 회귀분석 모델을 케라스로 구현하려면 입력값을 받는 **Input** 층과, 선형 변환을 수행하는 **Dense** 층을 만들어야 합니다."
   ]
  },
  {
   "cell_type": "code",
   "execution_count": null,
   "metadata": {},
   "outputs": [],
   "source": [
    "import tensorflow as tf\n",
    "from tensorflow.keras.layers import Input\n",
    "from tensorflow.keras.layers import Dense\n",
    "from tensorflow.keras.models import Model\n",
    "from tensorflow.keras import backend as K\n",
    "\n",
    "if \"set_seed\" in dir(tf.random):\n",
    "    tf.random.set_seed(1)\n",
    "else:\n",
    "    tf.random.set_random_seed(1)"
   ]
  },
  {
   "cell_type": "code",
   "execution_count": null,
   "metadata": {},
   "outputs": [],
   "source": [
    "# (1) 입력값의 형태 결정하기\n",
    "inputs = #\n",
    "\n",
    "# (2) 출력값의 형태 결정하기 \n",
    "dense_layer = #\n",
    "\n",
    "# (3) 레이어를 연결하기\n",
    "output = #\n",
    "\n",
    "# (4) 모델 구성하기\n",
    "model = #"
   ]
  },
  {
   "cell_type": "markdown",
   "metadata": {},
   "source": [
    "위의 작업은 실제로 아래와 같은 순서로 동작한다고 생각하면 됩니다.\n",
    "![2_23](./img/2_23.png)"
   ]
  },
  {
   "cell_type": "markdown",
   "metadata": {},
   "source": [
    "### (2) 구성한 모델 살펴보기\n",
    "\n",
    "이렇게 Input 층과 Dense 층이 연결되면 모델에서 학습해야 하는 가중치들이 결정됩니다.<br>"
   ]
  },
  {
   "cell_type": "code",
   "execution_count": null,
   "metadata": {},
   "outputs": [],
   "source": [
    "model.summary()"
   ]
  },
  {
   "cell_type": "markdown",
   "metadata": {},
   "source": [
    "가중치($w_{0}, w_{1}$)는 우리가 연결했던 Dense Layer에 저장되어 있습니다.<br>\n",
    "`Dense`레이어의 `Param #`에 적힌 $2$의 의미는 Dense층에서 학습할 가중치가 2개라는 뜻입니다. 확인해봅시다."
   ]
  },
  {
   "cell_type": "code",
   "execution_count": null,
   "metadata": {},
   "outputs": [],
   "source": [
    "# w1, w0\n",
    "dense_layer.get_weights()"
   ]
  },
  {
   "cell_type": "markdown",
   "metadata": {},
   "source": [
    "### (3) 모델에 데이터 입력하여 예측값 구하기 "
   ]
  },
  {
   "cell_type": "markdown",
   "metadata": {},
   "source": [
    "위 가중치 값은 아직 모델을 학습하여 최적의 가중치를 찾기 전, 임의로 지정한 값입니다. 위의 모델에 입력값을 넣어 출력값을 계산해보도록 하겠습니다."
   ]
  },
  {
   "cell_type": "code",
   "execution_count": null,
   "metadata": {},
   "outputs": [],
   "source": [
    "# x에 1의 값을 넣었을 때, y값은? w_1 * 1 + w_0\n",
    "x = np.array([[1.]],np.float32)\n",
    "display(model.predict(x))\n",
    "\n",
    "# x에 2의 값을 넣었을 때, y값은? w_1 * 2 + w_0\n",
    "x = np.array([[2.]],np.float32)\n",
    "display(model.predict(x))"
   ]
  },
  {
   "cell_type": "markdown",
   "metadata": {},
   "source": [
    "이 때 입력값 `x`의 형태는 `(1,1)`이 됩니다. shape의 첫번째 값, 즉 첫번째 축은 처리할 데이터 배치(Batch)의 수를 의미하고 두번째 축은 데이터 내 입력 변수의 갯수를 의미합니다. "
   ]
  },
  {
   "cell_type": "code",
   "execution_count": null,
   "metadata": {},
   "outputs": [],
   "source": [
    "x.shape"
   ]
  },
  {
   "cell_type": "markdown",
   "metadata": {},
   "source": [
    "동시에 3가지 값을 처리하고 싶다면, 입력값의 형태가 `(3,1)`이 되게 하여 아래와 같이 넣어주면 됩니다."
   ]
  },
  {
   "cell_type": "code",
   "execution_count": null,
   "metadata": {},
   "outputs": [],
   "source": [
    "# 동시에 세 가지 케이스 1., 2., 3.를 넣었을 때 처리 (병렬 처리)\n",
    "x = np.array([[1.],[2.],[3.]],np.float32)\n",
    "x.shape"
   ]
  },
  {
   "cell_type": "code",
   "execution_count": null,
   "metadata": {},
   "outputs": [],
   "source": [
    "display(model.predict(x))"
   ]
  },
  {
   "cell_type": "markdown",
   "metadata": {},
   "source": [
    "## 3. 케라스로 모델 학습시키기\n",
    "\n",
    "이제 케라스로 선형회귀 모델을 구성하는 방법을 배웠으니, 예제 데이터를 넣어 모델을 학습시켜봅시다. "
   ]
  },
  {
   "cell_type": "markdown",
   "metadata": {},
   "source": [
    "### 문제 정의 : 데이터로 영화 \"옥자\" 의 `관객수 예측 하기`\n",
    "\n",
    "1. 이전까지 개봉했던 영화의 왓챠 \"보고싶어요\" 수와 실제 관객 수를 바탕으로\n",
    "2. 2017년에 개봉한 옥자의 왓챠 \"보고싶어요\"를 통한 관객 수 예측하기\n",
    "\n",
    "![2_24](./img/2_24.png)"
   ]
  },
  {
   "cell_type": "code",
   "execution_count": null,
   "metadata": {},
   "outputs": [],
   "source": [
    "movie_df = pd.DataFrame([\n",
    "    [8759, 487],\n",
    "    [10132,612],\n",
    "    [12078,866],\n",
    "    [16430,1030]],\n",
    "    columns=[\"nums_want_to_see\",\"nums_audience\"])\n",
    "movie_df.index = [\"마션\",\"킹스맨\",\"캡틴아메리카\",\"인터스텔라\"]\n",
    "movie_df"
   ]
  },
  {
   "cell_type": "markdown",
   "metadata": {},
   "source": [
    "### (1) 모델 구성하기\n",
    "\n",
    "![2_16](./img/2_16.png)\n",
    "\n",
    "이전과 동일하게 \n",
    "\n",
    "$$\n",
    "\\hat y(x) = w_1 x + w_0\n",
    "$$\n",
    "\n",
    "위의 수식을 케라스로 구현해보도록 하겠습니다."
   ]
  },
  {
   "cell_type": "code",
   "execution_count": null,
   "metadata": {},
   "outputs": [],
   "source": [
    "# (1) 입력값의 형태 결정하기\n",
    "inputs = #\n",
    "\n",
    "# (2) 출력값의 형태 결정하기 \n",
    "dense_layer = #\n",
    "\n",
    "# (3) 레이어를 연결하기\n",
    "output = #\n"
   ]
  },
  {
   "cell_type": "markdown",
   "metadata": {},
   "source": [
    "### (2) 모델 생성하기\n",
    "![2_17](./img/2_17.png)"
   ]
  },
  {
   "cell_type": "code",
   "execution_count": null,
   "metadata": {},
   "outputs": [],
   "source": [
    "model = #"
   ]
  },
  {
   "cell_type": "markdown",
   "metadata": {},
   "source": [
    "### (3) 머신 개발 : 모델 학습 설정하기\n",
    "\n",
    "---\n",
    "\n",
    "![2_18](./img/2_18.png)\n",
    "\n",
    "\n",
    "#### 손실함수 설정하기\n",
    "\n",
    "\n",
    "![2_19](./img/2_19.png)\n",
    "\n",
    "케라스로 만든 선형회귀 모델을 최종 컴파일하기 전에, '손실함수'와 '옵티마이저'를 지정해야 합니다. 손실함수는 예측값과 정답값 사이의 차이를 계산하는 함수입니다. 우리의 모델이 잘 동작한다는 것은 예측값과 정답값 사이의 차이가 작다는 것을 의미하고, 우리의 모델이 잘 동작하지 않는다는 것은 예측값과 정답값 사이의 차이가 크다는 것을 의미합니다. <br>\n",
    "\n",
    "$$\n",
    "error(Y_{pred},Y_{true}) = Y_{pred}-Y_{true}\n",
    "$$\n",
    "\n",
    "위와 같은 단순 차이는 손실함수로서 적합할까요?"
   ]
  },
  {
   "cell_type": "code",
   "execution_count": null,
   "metadata": {},
   "outputs": [],
   "source": [
    "X = movie_df[['nums_want_to_see']]\n",
    "y_true = movie_df[['nums_audience']].values\n",
    "y_pred = model.predict(X)\n",
    "\n",
    "error = y_pred - y_true\n",
    "result_df = np.concatenate([y_true,y_pred,error], axis=1)\n",
    "pd.DataFrame(result_df, columns=['참값','예측값','예측값-참값'])"
   ]
  },
  {
   "cell_type": "markdown",
   "metadata": {},
   "source": [
    "`예측값 - 참값`이 0이 될 때가 우리가 원하는 Weight의 조합일텐데, 위의 경우에서는 예측값 - 참값이 음수가 나올 수 있습니다. 그래서 우리는 보통 예측값 - 참값이 음수가 나오지 않게 만들기 위해 제곱을 해주는 `Mean Squared Error` 혹은 절대값을 씌우는 `mean absolute error` 등을 이용합니다.\n",
    "\n",
    "대표적인 손실함수로는 아래의 두가지가 있습니다. 보통 목적에 따라 손실함수를 바꾸어줍니다.\n",
    "\n",
    "| 목적 | 출력값의 형태 | 손실 함수 | 수식 |\n",
    "| ---- | ------    | -----   | --- |\n",
    "| 값을 예측 | 실수 범위($-\\infty \\mbox{~} \\infty$) | Mean Squared Error | $\\sum(y_{pred}-y_{true})$ |\n",
    "| 값을 분류 | 확률 ($0 \\mbox{~} 1$) | Categorical Crossentropy | $\\sum y_{true}log(y_{pred}) $ |"
   ]
  },
  {
   "cell_type": "code",
   "execution_count": null,
   "metadata": {},
   "outputs": [],
   "source": [
    "from tensorflow.keras.losses import MeanSquaredError          # 목적 : Regression\n",
    "from tensorflow.keras.losses import CategoricalCrossentropy   # 목적 : Classification"
   ]
  },
  {
   "cell_type": "code",
   "execution_count": null,
   "metadata": {},
   "outputs": [],
   "source": [
    "# 우리의 목적 : 영화 옥자를 몇명이나 볼지 그 '수'를 예측하는 문제\n",
    "\n",
    "loss = #"
   ]
  },
  {
   "cell_type": "markdown",
   "metadata": {},
   "source": [
    "\n",
    "![5_9](./img/5_9.png)"
   ]
  },
  {
   "cell_type": "markdown",
   "metadata": {},
   "source": [
    "#### 모델의 최적화함수(Optimizer) 지정하기\n",
    "\n",
    "\n",
    "![2_19](./img/2_19.png)\n",
    "선형회귀에서 학습해야 하는 값은 각 뉴런사이의 연결에 대한 가중치입니다.<br>\n",
    "현재 우리의 모델은 2가지 가중치로 이루어져 있습니다.\n",
    "\n",
    "$$\n",
    "\\hat y(x) = w_1 x + w_0\n",
    "$$\n"
   ]
  },
  {
   "cell_type": "markdown",
   "metadata": {},
   "source": [
    "우리는 이 $w_1$와 $b_1$는 우리의 데이터에 맞게 바꾸는 것을 목표로 합니다. <br> \n",
    "우리의 목표는 가장 낮은 손실함수 값을 보이는 $w_1$와 $b_1$을 찾는 것입니다.\n",
    "\n",
    "그럼 가중치에 따른 손실함수는 어떻게 그려질까요?\n",
    "\n",
    "<img src=\"https://i.imgur.com/DEdzdin.png\" width=\"500\">"
   ]
  },
  {
   "cell_type": "markdown",
   "metadata": {},
   "source": [
    "위 그림은 모든 $w_1$와 $w_0$에 대해 손실함수 값을 일일히 대입해본 결과입니다. <br>\n",
    "우리가 여기서 찾아야 하는 것은 해당 손실함수에서 가장 낮은 점을 찾는 것입니다. 이 값을 어떻게 찾는 것이 가장 좋을까요? <br>"
   ]
  },
  {
   "cell_type": "markdown",
   "metadata": {},
   "source": [
    "먼저 무작위로 한 점을 찍습니다.\n",
    "![5_12](./img/5_12.png)"
   ]
  },
  {
   "cell_type": "markdown",
   "metadata": {},
   "source": [
    "이 점에서 손실함수를 줄이려면 어떻게 하는 것이 좋을까요? <br> \n",
    "우리는 위의 점을 보았을 때, 직관적으로 + 점을 기준으로 어느 방향으로 바꾸어야 하는지를 알 수 있습니다. <br>\n",
    "\n",
    "해당 점에서 손실함수가 줄어드는 방향으로 점을 이동해주면 됩니다.<br>\n",
    "해당 점에서 손실함수가 줄어드는 방향, 바로 해당 점의 기울기 반대 방향이 됩니다.<br>\n",
    "\n",
    "이렇게 기울기의 반대 방향으로 값을 갱신하는 방식을 Gradient Descent 방식이라 하고, 딥러닝 모델은 Gradient Descent 방식으로 가중치를 갱신합니다.\n",
    "\n",
    "$$\n",
    "w_1 := w_1 - \\alpha \\frac{\\partial L}{\\partial w_1} \\\\\n",
    "w_0 := w_0 - \\alpha \\frac{\\partial L}{\\partial w_0}\n",
    "$$\n",
    "\n",
    "이 때 $\\alpha$는 학습률(learning rate)로, 얼마나 가중치를 갱신할 것인지를 결정해주는 인자입니다. 우리는 데이터에 따라 $\\alpha$를 지정하게 됩니다."
   ]
  },
  {
   "cell_type": "markdown",
   "metadata": {},
   "source": [
    "Gradient Descent는 아래와 같이 진행됩니다.\n",
    "![5_19](./img/5_19.png)\n",
    "손실함수가 충분히 줄어들 때까지 기울기에 따라 가중치를 반복적으로 갱신하는 과정을 거칩니다.<br>\n",
    "텐서플로우와 케라스에서는 이렇게 데이터에 따라 가중치를 갱신하는 알고리즘을 `tensorflow.keras.optimizers`에서 제공해줍니다."
   ]
  },
  {
   "cell_type": "code",
   "execution_count": null,
   "metadata": {},
   "outputs": [],
   "source": [
    "from tensorflow.keras.optimizers import SGD\n",
    "\n",
    "optimizer = SGD(2e-10)"
   ]
  },
  {
   "cell_type": "markdown",
   "metadata": {},
   "source": [
    "#### 모델 컴파일하기\n",
    "\n",
    "\n",
    "![2_19](./img/2_19.png)\n",
    "\n",
    "위에서 지정한 optimizer와 loss 함수를 모델에 적용하는 것은 compile을 통해 이루어집니다."
   ]
  },
  {
   "cell_type": "code",
   "execution_count": null,
   "metadata": {},
   "outputs": [],
   "source": [
    "#"
   ]
  },
  {
   "cell_type": "markdown",
   "metadata": {},
   "source": [
    "### (4) 선형회귀 모형 학습시키기\n",
    "\n",
    "\n",
    "![2_20](./img/2_20.png)\n",
    "\n",
    "입력 데이터(x)와 그에 상응하는 타깃 데이터(y)의 쌍을 통해, 모형 내 가중치들이 학습됩니다. <br>\n",
    "현재 `linear_model`은 학습이 전혀 되지 않은 상태입니다."
   ]
  },
  {
   "cell_type": "code",
   "execution_count": null,
   "metadata": {},
   "outputs": [],
   "source": [
    "# 학습이 전혀 되지 않았을 때의 예측 값\n",
    "y_pred = #\n",
    "movie_df['prediction'] = y_pred\n",
    "movie_df"
   ]
  },
  {
   "cell_type": "code",
   "execution_count": null,
   "metadata": {},
   "outputs": [],
   "source": [
    "# 학습이 전혀 되지 않았을 때의 Weight\n",
    "model.get_weights()"
   ]
  },
  {
   "cell_type": "markdown",
   "metadata": {},
   "source": [
    "케라스에서는 입력 데이터와 타깃 데이터에 맞춰 가중치들을 갱신해주는 함수가 `model.fit()`으로 구현되어 있습니다.<br>\n",
    "학습을 100번만 해보도록 하겠습니다."
   ]
  },
  {
   "cell_type": "code",
   "execution_count": null,
   "metadata": {},
   "outputs": [],
   "source": [
    "history = #"
   ]
  },
  {
   "cell_type": "code",
   "execution_count": null,
   "metadata": {},
   "outputs": [],
   "source": [
    "# 학습이 된 후의 예측 값\n",
    "y_pred = #\n",
    "\n",
    "movie_df['prediction'] = y_pred\n",
    "movie_df"
   ]
  },
  {
   "cell_type": "markdown",
   "metadata": {},
   "source": [
    "`history.history`에는 훈련을 반복할 때마다 모델의 손실을 기록하였습니다. 이를 시각화해보면, 모델의 손실이 얼만큼씩 줄어들면서 가중치가 갱신되었는지 알 수 있습니다. 40회차 정도 학습이 진행되었을 때, 손실이 줄어드는 정도가 급격히 줄어든 것을 알 수 있습니다. 100번까지 학습시켰으니, 더 이상 손실을 줄일 수 없는 정도에서 최종 가중치가 결정되었습니다. "
   ]
  },
  {
   "cell_type": "code",
   "execution_count": null,
   "metadata": {},
   "outputs": [],
   "source": [
    "plt.plot(history.history['loss'])\n",
    "plt.show()"
   ]
  },
  {
   "cell_type": "markdown",
   "metadata": {},
   "source": [
    "### (5) 결과 시각화하기\n",
    "이제 이렇게 학습된 모델의 최종 추세선을 그려봅시다. "
   ]
  },
  {
   "cell_type": "code",
   "execution_count": null,
   "metadata": {},
   "outputs": [],
   "source": [
    "pred_inputs = np.arange(7500, 18000)\n",
    "pred_outputs = model.predict(pred_inputs[:,None])\n",
    "\n",
    "movie_df.plot(x='nums_want_to_see',y='nums_audience',\n",
    "              kind='scatter', title=\"Movie\")\n",
    "plt.plot(pred_inputs, pred_outputs, 'r--')\n",
    "plt.show()"
   ]
  },
  {
   "cell_type": "markdown",
   "metadata": {
    "slideshow": {
     "slide_type": "slide"
    }
   },
   "source": [
    "### 정리 : 딥러닝 개발 프로세스\n",
    "\n",
    "![2_21](./img/2_21.png)"
   ]
  },
  {
   "cell_type": "markdown",
   "metadata": {},
   "source": [
    "#  \n",
    "\n",
    "---\n",
    "\n",
    "    Copyright(c) 2020 by Public AI. All rights reserved.\n",
    "    Writen by PAI, SeonYoul Choi ( best10@publicai.co.kr )  last updated on 2020/06/17\n",
    "\n",
    "\n",
    "---"
   ]
  }
 ],
 "metadata": {
  "kernelspec": {
   "display_name": "Python 3",
   "language": "python",
   "name": "python3"
  },
  "language_info": {
   "codemirror_mode": {
    "name": "ipython",
    "version": 3
   },
   "file_extension": ".py",
   "mimetype": "text/x-python",
   "name": "python",
   "nbconvert_exporter": "python",
   "pygments_lexer": "ipython3",
   "version": "3.7.6"
  },
  "toc": {
   "base_numbering": 1,
   "nav_menu": {},
   "number_sections": false,
   "sideBar": true,
   "skip_h1_title": false,
   "title_cell": "Table of Contents",
   "title_sidebar": "Contents",
   "toc_cell": false,
   "toc_position": {
    "height": "calc(100% - 180px)",
    "left": "10px",
    "top": "150px",
    "width": "165px"
   },
   "toc_section_display": true,
   "toc_window_display": false
  },
  "varInspector": {
   "cols": {
    "lenName": 16,
    "lenType": 16,
    "lenVar": 40
   },
   "kernels_config": {
    "python": {
     "delete_cmd_postfix": "",
     "delete_cmd_prefix": "del ",
     "library": "var_list.py",
     "varRefreshCmd": "print(var_dic_list())"
    },
    "r": {
     "delete_cmd_postfix": ") ",
     "delete_cmd_prefix": "rm(",
     "library": "var_list.r",
     "varRefreshCmd": "cat(var_dic_list()) "
    }
   },
   "types_to_exclude": [
    "module",
    "function",
    "builtin_function_or_method",
    "instance",
    "_Feature"
   ],
   "window_display": false
  }
 },
 "nbformat": 4,
 "nbformat_minor": 4
}
